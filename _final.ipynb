{
 "cells": [
  {
   "cell_type": "code",
   "execution_count": 3,
   "metadata": {},
   "outputs": [],
   "source": [
    "# imports\n",
    "from tqdm import tqdm #progress bar\n",
    "import math\n",
    "import statistics\n",
    "import pandas as pd\n",
    "import numpy as np\n",
    "from uncertainties import ufloat\n",
    "from uncertainties.umath import * \n",
    "\n",
    "# SWEET-Cat\n",
    "import urllib\n",
    "from astropy import coordinates as coord\n",
    "from astropy import units as u\n",
    "\n",
    "from astropy.table import Table\n",
    "from astropy.io.ascii import convert_numpy\n",
    "\n",
    "# astroquery\n",
    "from astroquery.simbad import Simbad\n",
    "from astroquery.utils.tap.core import TapPlus #tap service\n",
    "\n",
    "from astroquery.ipac.nexsci.nasa_exoplanet_archive import NasaExoplanetArchive as nas\n",
    "from astroquery.utils.tap.core import TapPlus #tap service\n",
    "\n",
    "from astroquery.vizier import Vizier\n",
    "from astroquery.utils.tap.core import TapPlus #tap service"
   ]
  },
  {
   "cell_type": "code",
   "execution_count": 4,
   "metadata": {},
   "outputs": [],
   "source": [
    "#Download SWEET-Cat\n",
    "sweetCat_table_url = \"https://sweetcat.iastro.pt/catalog/SWEETCAT_Dataframe.csv\"\n",
    "converters={'gaia_dr2': [convert_numpy(np.int64)],'gaia_dr3': [convert_numpy(np.int64)] }\n",
    "sweet_table = Table.read(sweetCat_table_url, encoding='UTF-8',format='csv', converters=converters)\n",
    "\n",
    "sweet_stars = sweet_table['Name']\n",
    "gaia = sweet_table['gaia_dr2']\n",
    "identifiers = []\n",
    "for i in gaia:\n",
    "    identifiers.append(\"Gaia DR2 \" + str(i))\n",
    "    \n",
    "#simbad\n",
    "simbadtap = TapPlus(url=\"http://simbad.u-strasbg.fr/simbad/sim-tap\")\n",
    "#nasa \n",
    "#arch = nas.query_criteria(table=\"ps\")\n",
    "#vizier\n",
    "v = Vizier(columns=['vsini', 'e_vsini'])"
   ]
  },
  {
   "cell_type": "code",
   "execution_count": 13,
   "metadata": {},
   "outputs": [],
   "source": [
    "def simbad(star_name, sweet_table, simbadtap): #query simbad catalog and make csv file for every star\n",
    "    \n",
    "    sweet_stars = sweet_table['Name']\n",
    "    \n",
    "    # check if star is in SWEET-Cat\n",
    "    if star_name not in sweet_stars:\n",
    "        return \"Not a SWEET-Cat star name.\"\n",
    "    \n",
    "    # Get star id\n",
    "    gaia2_id = sweet_table[sweet_table['Name'] == star_name]['gaia_dr2']\n",
    "    gaia3_id = sweet_table[sweet_table['Name'] == star_name]['gaia_dr3']\n",
    "    \n",
    "    star_id2 = \"gaia_dr2 \" + str(gaia2_id[0])\n",
    "    star_id3 = \"gaia_dr3 \" + str(gaia3_id[0])\n",
    "    \n",
    "    # Query Simbad and make dataframe\n",
    "    #simbadtap = TapPlus(url=\"http://simbad.u-strasbg.fr/simbad/sim-tap\")\n",
    "    \n",
    "    job = simbadtap.launch_job(\"select main_id,mrot.vsini,mrot.vsini_err, mrot.bibcode from basic join ident as i on i.oidref = oid join mesRot as mrot on mrot.oidref = oid where i.id in ('\"+ star_id2 + \"')\")\n",
    "    \n",
    "    result = job.get_results()\n",
    "\n",
    "    cat = ['simbad']*len(result)\n",
    "    \n",
    "    df = result.to_pandas()\n",
    "    df = df.drop(['main_id'], axis=1)\n",
    "    err_low = -df['vsini_err']  \n",
    "    #df['vsini_err2'] = err_low\n",
    "    df.insert(2, 'vsini_err2', err_low)\n",
    "    df['Catalogue'] = cat\n",
    "    \n",
    "    # Make csv file with the values\n",
    "    if \"/\" in star_name or \"*\" in star_name:\n",
    "        file_name = star_id2\n",
    "    else:\n",
    "        file_name = star_name\n",
    "        \n",
    "    df.to_csv('{}.txt'.format(file_name), index=False, header=False, sep = '\\t')\n",
    "    \n",
    "    return "
   ]
  },
  {
   "cell_type": "code",
   "execution_count": 5,
   "metadata": {},
   "outputs": [],
   "source": [
    "sweet_stars = sweet_table['Name']\n",
    "    \n",
    "gaia = sweet_table['gaia_dr2']\n",
    "    \n",
    "identifiers = []\n",
    "for i in gaia:\n",
    "    identifiers.append(\"Gaia DR2 \" + str(i))\n",
    "    \n",
    "#arch = nas.query_criteria(table=\"ps\")\n",
    "    \n",
    "result_nasa = arch[np.in1d(arch['gaia_id'], identifiers)]\n",
    "    \n",
    "result_nasa = result_nasa[\"gaia_id\",\"st_vsin\",\"st_vsinerr1\",\"st_vsinerr2\",\"st_refname\"]\n",
    "    \n",
    "df_nasa = result_nasa.to_pandas()\n",
    "df_nasa = df_nasa.dropna(subset=['st_vsin'])\n",
    "df_nasa = df_nasa.drop_duplicates()\n",
    "\n",
    "def nasa_exo(star_name, sweet_table, df_nasa):\n",
    "    \n",
    "    gaia2_id = sweet_table[sweet_table['Name'] == star_name]['gaia_dr2']\n",
    "    star_id2 = \"Gaia DR2 \" + str(gaia2_id[0])\n",
    "    \n",
    "    #dataframe for each star\n",
    "    df_star = df_nasa[df_nasa[\"gaia_id\"] == star_id2]\n",
    "    df_star = df_star.drop(['gaia_id'], axis=1)\n",
    "    cat = ['nasa_exoplanet_archive']*len(df_star)\n",
    "    df_star['Catalogue'] = cat\n",
    "    \n",
    "    # Make csv file with the values\n",
    "    star_id2_simbad = \"gaia_dr2 \" + str(gaia2_id[0])\n",
    "    if \"/\" in star_name or \"*\" in star_name:\n",
    "        file_name = star_id2_simbad\n",
    "    else:\n",
    "        file_name = star_name\n",
    "\n",
    "    df_star.to_csv('{}.txt'.format(file_name), mode='a', index=False, header=False, sep = '\\t')\n",
    "    \n",
    "    return "
   ]
  },
  {
   "cell_type": "code",
   "execution_count": 6,
   "metadata": {},
   "outputs": [],
   "source": [
    "def vizier(star_name, sweet_table, catalogs_names):\n",
    "    \n",
    "    sweet_stars = sweet_table['Name']\n",
    "    \n",
    "    # check if star is in SWEET-Cat\n",
    "    if star_name not in sweet_stars:\n",
    "        return \"Not a SWEET-Cat star name.\"\n",
    "    \n",
    "    # Get star id\n",
    "    gaia2_id = sweet_table[sweet_table['Name'] == star_name]['gaia_dr2']\n",
    "    gaia3_id = sweet_table[sweet_table['Name'] == star_name]['gaia_dr3']\n",
    "    \n",
    "    star_id2 = \"Gaia DR2 \" + str(gaia2_id[0])\n",
    "    star_id3 = \"Gaia DR3 \" + str(gaia3_id[0])\n",
    "    \n",
    "    # query vizier\n",
    "    for catalog_name in catalogs_names:\n",
    "        result = Vizier(catalog=catalog_name, columns=['vsini', 'e_vsini']).query_object(star_name)\n",
    "    \n",
    "        frames = []\n",
    "        for i in range(len(result)):\n",
    "            df = result[i].to_pandas()\n",
    "            frames.append(df)\n",
    "\n",
    "        if len(frames) > 0:\n",
    "            df_vizier = pd.concat(frames)\n",
    "            #print(df_vizier)\n",
    "            if len(df_vizier.columns) == 1:\n",
    "                evsini = [float(\"nan\")]*len(df_vizier)\n",
    "                df_vizier['e_vsini'] = evsini\n",
    "                #print(df_vizier)\n",
    "            # edit dataframe\n",
    "            cat = ['vizier_{}'.format(catalog_name)]*len(df_vizier)\n",
    "            ref = [float(\"nan\")]*len(df_vizier)\n",
    "            err_low = - df_vizier['e_vsini']\n",
    "            #print(err_low)\n",
    "            df_vizier['err_low'] = err_low\n",
    "            df_vizier['ref'] = ref\n",
    "            df_vizier['Catalogue'] = cat\n",
    "\n",
    "            # Make csv file with the values\n",
    "            star_id2_simbad = \"gaia_dr2 \" + str(gaia2_id[0])\n",
    "            if \"/\" in star_name or \"*\" in star_name:\n",
    "                file_name = star_id2_simbad\n",
    "            else:\n",
    "                file_name = star_name\n",
    "\n",
    "            df_vizier.to_csv('{}.txt'.format(file_name), mode='a', index=False, header=False, sep = '\\t')\n",
    "\n",
    "    return "
   ]
  },
  {
   "cell_type": "code",
   "execution_count": 7,
   "metadata": {},
   "outputs": [],
   "source": [
    "catalogs_names = ['J/A+A/594/A39/', 'J/AJ/163/179/', 'J/A+A/664/A78/', 'III/244/', 'J/ApJS/237/38/', 'J/ApJ/919/138/', 'V/156/', 'J/A+A/654/A137/', 'J/A+A/662/A66/']"
   ]
  },
  {
   "cell_type": "markdown",
   "metadata": {},
   "source": [
    "## testing for two stars: 11 Com & HD 96167"
   ]
  },
  {
   "cell_type": "code",
   "execution_count": 9,
   "metadata": {},
   "outputs": [],
   "source": [
    "simbad('11 Com', sweet_table, simbadtap)\n",
    "nasa_exo('11 Com', sweet_table, df_nasa)\n",
    "vizier('11 Com', sweet_table, catalogs_names)"
   ]
  },
  {
   "cell_type": "code",
   "execution_count": 10,
   "metadata": {},
   "outputs": [],
   "source": [
    "simbad('HD 96167', sweet_table, simbadtap)\n",
    "nasa_exo('HD 96167', sweet_table, df_nasa)\n",
    "vizier('HD 96167', sweet_table, catalogs_names)"
   ]
  },
  {
   "cell_type": "markdown",
   "metadata": {},
   "source": [
    "## Creating the complete files\n",
    "\n",
    "Warnings:\n",
    " - Always run in the order simbad --> nasa_exo --> vizier\n",
    " - Never run nasa_exo or vizier twice without a simbad in between (it will just add the same values again, but having simbad there restarts the file)"
   ]
  },
  {
   "cell_type": "code",
   "execution_count": 14,
   "metadata": {
    "scrolled": true
   },
   "outputs": [
    {
     "name": "stderr",
     "output_type": "stream",
     "text": [
      "100%|██████████████████████████████████████████████████████████████████████████████| 3803/3803 [12:21<00:00,  5.13it/s]\n"
     ]
    }
   ],
   "source": [
    "# SIMBAD\n",
    "for star_name in tqdm(sweet_stars):\n",
    "    #print(star_name)\n",
    "    simbad(star_name, sweet_table, simbadtap)"
   ]
  },
  {
   "cell_type": "code",
   "execution_count": 16,
   "metadata": {},
   "outputs": [
    {
     "name": "stderr",
     "output_type": "stream",
     "text": [
      "100%|██████████████████████████████████████████████████████████████████████████████| 3803/3803 [01:02<00:00, 60.41it/s]\n"
     ]
    }
   ],
   "source": [
    "# NASA\n",
    "for star_name in tqdm(sweet_stars):\n",
    "    #print(star_name)\n",
    "    nasa_exo(star_name, sweet_table, df_nasa)"
   ]
  },
  {
   "cell_type": "code",
   "execution_count": 23,
   "metadata": {},
   "outputs": [
    {
     "name": "stderr",
     "output_type": "stream",
     "text": [
      "100%|████████████████████████████████████████████████████████████████████████████| 3803/3803 [2:27:25<00:00,  2.33s/it]\n"
     ]
    }
   ],
   "source": [
    "# VIZIER\n",
    "for star_name in tqdm(sweet_stars):\n",
    "    #print(star_name)\n",
    "    vizier(star_name, sweet_table, catalogs_names)"
   ]
  },
  {
   "cell_type": "markdown",
   "metadata": {},
   "source": [
    "#### Deleting duplicates and prepping the dataframe\n",
    "Because I had to run vizier several times until it had gone through all of the stars, it kept adding the same values for the stars it had already ran, so I will just drop the duplicates"
   ]
  },
  {
   "cell_type": "code",
   "execution_count": 27,
   "metadata": {},
   "outputs": [
    {
     "name": "stderr",
     "output_type": "stream",
     "text": [
      "100%|██████████████████████████████████████████████████████████████████████████████| 3803/3803 [01:22<00:00, 45.95it/s]\n"
     ]
    }
   ],
   "source": [
    "for star_name in tqdm(sweet_stars):    \n",
    "    gaia2_id = sweet_table[sweet_table['Name'] == star_name]['gaia_dr2']\n",
    "    \n",
    "    star_id2_simbad = \"gaia_dr2 \" + str(gaia2_id[0])\n",
    "    \n",
    "    if \"/\" in star_name or \"*\" in star_name:\n",
    "        file_name = star_id2_simbad\n",
    "    else:\n",
    "        file_name = star_name\n",
    "        \n",
    "    data = pd.read_csv('{}.txt'.format(file_name), sep='\\t', header=None, names=['vsini', 'err_1', 'err_2', 'Ref', 'Catalog'])\n",
    "    #print(len(data))\n",
    "    data = data.drop_duplicates()\n",
    "    data.to_csv('{}.txt'.format(file_name), index=False, header=True, sep = '\\t')\n",
    "    #print(len(data))"
   ]
  },
  {
   "cell_type": "markdown",
   "metadata": {},
   "source": [
    "#   --------------------- No need to run any of the above cells again! ---------------------"
   ]
  },
  {
   "cell_type": "markdown",
   "metadata": {},
   "source": [
    "## Creating a function that will query the catalogs and select a final value of vsini for each star based on a criteria\n",
    "This final table will list the SWEET-Cat stars names and a single value of vsini.\n",
    "\n",
    "To select this vsini value, we need to choose a selection creterion among the following:\n",
    "\n",
    " 1. Average of all values (non reliable), disregarding uncertainties since some values have no uncertainty (disregards errors).\n",
    " 2. Normal average of the values with associated error and calculate propagation of uncertainty (disregards values with no associated error).\n",
    " 3. Weighted average, which would only consider measurements that have an associated error (disregards values with no associated error).\n",
    " 4. Value with the smallest error, or in case of equal errors, the average of the values with the smallest error (disregards values with no associated error).\n",
    " 5. Value with the smallest percent uncertainty (disregards values with no associated error).\n",
    " 6. Calculate the standard deviation and disregard values beyond average +/- 1SD --> Take the average of the values (disregards errors).\n",
    " 7. Returns the first value stored from nasa exoplanet archive.\n",
    " 8. Taking the median value.\n",
    "\n",
    "Do all of the above but only for 'recent' measurements (choose a cutoff year - 2000s)"
   ]
  },
  {
   "cell_type": "code",
   "execution_count": 326,
   "metadata": {},
   "outputs": [],
   "source": [
    "def final(sweet_star, criteria, cutoff_year, cut_off): #not to be used for criteria 7 \n",
    "    '''\n",
    "    sweet_star: name of the star\n",
    "    criteria: \n",
    "    cutoff_year: True or False\n",
    "    '''\n",
    "    result = criteria(sweet_star, cutoff_year, cut_off)\n",
    "    value, err1, err2 = result\n",
    "    return  sweet_star + ': vsini = {} +/- ({},{})'.format(value, err1, err2)"
   ]
  },
  {
   "cell_type": "code",
   "execution_count": 430,
   "metadata": {},
   "outputs": [],
   "source": [
    "def cut_off_year(star_name, cut_off):\n",
    "    '''\n",
    "    Do all of the above but only for 'recent' measurements\n",
    "    (choose a cutoff year - 2000s)\n",
    "    sweet_star: name of SWEET-Cat star\n",
    "    cut_off: year we consider adequate\n",
    "    dataframe: pandas dataframe for sweet_star with the columns: ['vsini', 'err_1', 'err_2', 'Ref', 'Catalog']\n",
    "    output: dataframe but only with values published after cut_off year\n",
    "    '''        \n",
    "    gaia2_id = sweet_table[sweet_table['Name'] == star_name]['gaia_dr2']\n",
    "    \n",
    "    star_id2_simbad = \"gaia_dr2 \" + str(gaia2_id[0])\n",
    "    \n",
    "    if \"/\" in star_name or \"*\" in star_name:\n",
    "        file_name = star_id2_simbad\n",
    "    else:\n",
    "        file_name = star_name\n",
    "    \n",
    "    dataframe = pd.read_csv('{}.txt'.format(file_name), sep='\\t')\n",
    "    \n",
    "    for i, cat in enumerate(dataframe['Catalog']):\n",
    "        if cat == 'simbad':\n",
    "            ref = dataframe['Ref'][i]\n",
    "            if type(ref) == str:\n",
    "                year = int(ref[:4])\n",
    "            else:\n",
    "                year = 0\n",
    "        if cat == 'nasa_exoplanet_archive':\n",
    "            ref = dataframe['Ref'][i]\n",
    "            if type(ref) == str:\n",
    "                ref = ref.split(' ')\n",
    "                year = int(ref[1][-4:])\n",
    "            else:\n",
    "                year = 0\n",
    "        if cat == 'vizier_J/A+A/594/A39/':\n",
    "            year = 2016\n",
    "        if cat == 'vizier_J/AJ/163/179/':\n",
    "            year = 2022\n",
    "        if cat == 'vizier_J/A+A/664/A78/':\n",
    "            year = 2022\n",
    "        if cat == 'vizier_III/244/':\n",
    "            year = 2005\n",
    "        if cat == 'vizier_J/ApJS/237/38/':\n",
    "            year = 2018\n",
    "        if cat == 'vizier_J/ApJ/919/138/':\n",
    "            year = 2021\n",
    "        if cat == 'vizier_V/156/':\n",
    "            year = 2019\n",
    "        if cat == 'vizier_J/A+A/654/A137/':\n",
    "            year = 2021\n",
    "        if cat == 'vizier_J/A+A/662/A66/':\n",
    "            year = 2022\n",
    "        if year < cut_off:\n",
    "            dataframe = dataframe.drop(labels=i,axis=0)\n",
    "    \n",
    "    return dataframe"
   ]
  },
  {
   "cell_type": "code",
   "execution_count": 433,
   "metadata": {},
   "outputs": [
    {
     "data": {
      "text/html": [
       "<div>\n",
       "<style scoped>\n",
       "    .dataframe tbody tr th:only-of-type {\n",
       "        vertical-align: middle;\n",
       "    }\n",
       "\n",
       "    .dataframe tbody tr th {\n",
       "        vertical-align: top;\n",
       "    }\n",
       "\n",
       "    .dataframe thead th {\n",
       "        text-align: right;\n",
       "    }\n",
       "</style>\n",
       "<table border=\"1\" class=\"dataframe\">\n",
       "  <thead>\n",
       "    <tr style=\"text-align: right;\">\n",
       "      <th></th>\n",
       "      <th>vsini</th>\n",
       "      <th>err_1</th>\n",
       "      <th>err_2</th>\n",
       "      <th>Ref</th>\n",
       "      <th>Catalog</th>\n",
       "    </tr>\n",
       "  </thead>\n",
       "  <tbody>\n",
       "  </tbody>\n",
       "</table>\n",
       "</div>"
      ],
      "text/plain": [
       "Empty DataFrame\n",
       "Columns: [vsini, err_1, err_2, Ref, Catalog]\n",
       "Index: []"
      ]
     },
     "execution_count": 433,
     "metadata": {},
     "output_type": "execute_result"
    }
   ],
   "source": [
    "cut_off_year('WASP-164', 2000)"
   ]
  },
  {
   "cell_type": "code",
   "execution_count": 389,
   "metadata": {},
   "outputs": [],
   "source": [
    "def crit_1(star_name, cutoff_year, cut_off):\n",
    "    '''\n",
    "    Average of all values disregarding uncertainties \n",
    "    sweet_star: name of SWEET-Cat star\n",
    "    dataframe: pandas dataframe for sweet_star with the columns: ['vsini', 'err_1', 'err_2', 'Ref', 'Catalog']\n",
    "    cutoff_year: function that reduces the dataframe to only values after the year cut_off\n",
    "    output: Average of all values +/- nan \n",
    "    '''\n",
    "    gaia2_id = sweet_table[sweet_table['Name'] == star_name]['gaia_dr2']\n",
    "    \n",
    "    star_id2_simbad = \"gaia_dr2 \" + str(gaia2_id[0])\n",
    "    \n",
    "    if \"/\" in star_name or \"*\" in star_name:\n",
    "        file_name = star_id2_simbad\n",
    "    else:\n",
    "        file_name = star_name\n",
    "        \n",
    "    if cutoff_year == True:\n",
    "        dataframe = cut_off_year(star_name, cut_off)\n",
    "        dataframe = dataframe.reset_index()\n",
    "        dataframe = dataframe.drop(labels='index', axis=1)\n",
    "    if cutoff_year == False:\n",
    "        dataframe = pd.read_csv('{}.txt'.format(file_name), sep='\\t')\n",
    "    if len(dataframe) > 0:\n",
    "        return np.average(dataframe['vsini']), float('nan'), float('nan')\n",
    "    if len(dataframe) == 0:\n",
    "        return float('nan'), float('nan'), float('nan')"
   ]
  },
  {
   "cell_type": "code",
   "execution_count": 390,
   "metadata": {},
   "outputs": [
    {
     "name": "stdout",
     "output_type": "stream",
     "text": [
      "11 Com: vsini = 5.292 +/- (nan,nan)\n"
     ]
    }
   ],
   "source": [
    "print(final('11 Com', crit_1, True, 2000))"
   ]
  },
  {
   "cell_type": "code",
   "execution_count": 391,
   "metadata": {},
   "outputs": [],
   "source": [
    "def crit_2(star_name, cutoff_year, cut_off):\n",
    "    '''\n",
    "    Normal average of the values with associated error and calculate propagation of uncertainty \n",
    "    (disregards values with no associated error)\n",
    "    sweet_star: name of SWEET-Cat star\n",
    "    dataframe: pandas dataframe for sweet_star with the columns: ['vsini', 'err_1', 'err_2', 'Ref', 'Catalog']\n",
    "    cutoff_year: function that reduces the dataframe to only values after the year cut_off\n",
    "    output: Average of all values +/- uncertainty\n",
    "    '''\n",
    "    gaia2_id = sweet_table[sweet_table['Name'] == star_name]['gaia_dr2']\n",
    "    \n",
    "    star_id2_simbad = \"gaia_dr2 \" + str(gaia2_id[0])\n",
    "    \n",
    "    if \"/\" in star_name or \"*\" in star_name:\n",
    "        file_name = star_id2_simbad\n",
    "    else:\n",
    "        file_name = star_name\n",
    "        \n",
    "    if cutoff_year == True:\n",
    "        dataframe = cut_off_year(star_name, cut_off)\n",
    "        dataframe = dataframe.reset_index()\n",
    "        dataframe = dataframe.drop(labels='index', axis=1)\n",
    "    if cutoff_year == False:\n",
    "        dataframe = pd.read_csv('{}.txt'.format(file_name), sep='\\t')\n",
    "    \n",
    "    if len(dataframe) > 0:\n",
    "        xs = []\n",
    "        for i, err in enumerate(dataframe['err_1']):\n",
    "            if not math.isnan(err):\n",
    "                value = dataframe['vsini'][i]\n",
    "                u = err\n",
    "                x = ufloat(value, u)\n",
    "                xs.append(x)\n",
    "        res = sum(np.array(xs))/len(np.array(xs))\n",
    "        val = res.n\n",
    "        err1 = res.s\n",
    "        err2 = - res.s\n",
    "        return val, err1, err2\n",
    "    \n",
    "    if len(dataframe) == 0:\n",
    "        return float('nan'), float('nan'), float('nan')"
   ]
  },
  {
   "cell_type": "code",
   "execution_count": 392,
   "metadata": {},
   "outputs": [
    {
     "name": "stdout",
     "output_type": "stream",
     "text": [
      "11 Com: vsini = 1.7866666666666668 +/- (0.6075908711186061,-0.6075908711186061)\n"
     ]
    }
   ],
   "source": [
    "print(final('11 Com', crit_2, True, 2000))"
   ]
  },
  {
   "cell_type": "code",
   "execution_count": 393,
   "metadata": {},
   "outputs": [],
   "source": [
    "def crit_3(star_name, cutoff_year, cut_off):\n",
    "    '''\n",
    "    Weighted average, which would only consider measurements that have an associated error \n",
    "    sweet_star: name of SWEET-Cat star\n",
    "    dataframe: pandas dataframe for sweet_star with the columns: ['vsini', 'err_1', 'err_2', 'Ref', 'Catalog']\n",
    "    cutoff_year: function that reduces the dataframe to only values after the year cut_off\n",
    "    output: weighted average +/- error\n",
    "    '''    \n",
    "    gaia2_id = sweet_table[sweet_table['Name'] == star_name]['gaia_dr2']\n",
    "    \n",
    "    star_id2_simbad = \"gaia_dr2 \" + str(gaia2_id[0])\n",
    "    \n",
    "    if \"/\" in star_name or \"*\" in star_name:\n",
    "        file_name = star_id2_simbad\n",
    "    else:\n",
    "        file_name = star_name\n",
    "        \n",
    "    if cutoff_year == True:\n",
    "        dataframe = cut_off_year(star_name, cut_off)\n",
    "        dataframe = dataframe.reset_index()\n",
    "        dataframe = dataframe.drop(labels='index', axis=1)\n",
    "    if cutoff_year == False:\n",
    "        dataframe = pd.read_csv('{}.txt'.format(file_name), sep='\\t')\n",
    "    \n",
    "    label = []\n",
    "    for i, err in enumerate(dataframe['err_1']):\n",
    "        if pd.isna(err):\n",
    "            label.append(i)\n",
    "    dataframe = dataframe.drop(labels=label, axis=0)\n",
    "    dataframe = dataframe.reset_index()\n",
    "    dataframe = dataframe.drop(labels='index', axis=1)\n",
    "    \n",
    "    if len(dataframe) > 0:\n",
    "        weighted_average = np.average(a=dataframe['vsini'], weights=dataframe['err_1'])\n",
    "        variance = np.average((dataframe['vsini']-weighted_average)**2, weights=dataframe['err_1'])\n",
    "        return weighted_average, variance, -variance\n",
    "    \n",
    "    if len(dataframe) == 0:\n",
    "        return float('nan'), float('nan'), float('nan')"
   ]
  },
  {
   "cell_type": "code",
   "execution_count": 394,
   "metadata": {},
   "outputs": [
    {
     "name": "stdout",
     "output_type": "stream",
     "text": [
      "11 Com: vsini = 1.8425396825396827 +/- (0.7180125976316453,-0.7180125976316453)\n"
     ]
    }
   ],
   "source": [
    "print(final('11 Com', crit_3, True, 2000))"
   ]
  },
  {
   "cell_type": "code",
   "execution_count": 395,
   "metadata": {},
   "outputs": [],
   "source": [
    "def crit_4(star_name, cutoff_year, cut_off):\n",
    "    '''\n",
    "    Value with the smallest error, or in case of equal errors, the average of the values with the smallest error \n",
    "    (disregards values with no associated error) \n",
    "    sweet_star: name of SWEET-Cat star\n",
    "    dataframe: pandas dataframe for sweet_star with the columns: ['vsini', 'err_1', 'err_2', 'Ref', 'Catalog']\n",
    "    cutoff_year: function that reduces the dataframe to only values after the year cut_off\n",
    "    output: Average +/- error\n",
    "    '''        \n",
    "    gaia2_id = sweet_table[sweet_table['Name'] == star_name]['gaia_dr2']\n",
    "    \n",
    "    star_id2_simbad = \"gaia_dr2 \" + str(gaia2_id[0])\n",
    "    \n",
    "    if \"/\" in star_name or \"*\" in star_name:\n",
    "        file_name = star_id2_simbad\n",
    "    else:\n",
    "        file_name = star_name\n",
    "        \n",
    "    if cutoff_year == True:\n",
    "        dataframe = cut_off_year(star_name, cut_off)\n",
    "        dataframe = dataframe.reset_index()\n",
    "        dataframe = dataframe.drop(labels='index', axis=1)\n",
    "    if cutoff_year == False:\n",
    "        dataframe = pd.read_csv('{}.txt'.format(file_name), sep='\\t')\n",
    "    \n",
    "    if len(dataframe) > 0:\n",
    "        smallest_err = dataframe['err_1'].min(0, skipna = True)\n",
    "        values = dataframe['vsini'][dataframe['err_1']==smallest_err]\n",
    "        xs = []\n",
    "        for i, value in enumerate(values):\n",
    "            x = ufloat(value, smallest_err)\n",
    "            xs.append(x)\n",
    "        res = sum(np.array(xs))/len(np.array(xs))\n",
    "        return res.n, res.s, float('nan')\n",
    "    \n",
    "    if len(dataframe) == 0:\n",
    "        return float('nan'), float('nan'), float('nan')"
   ]
  },
  {
   "cell_type": "code",
   "execution_count": 396,
   "metadata": {},
   "outputs": [
    {
     "name": "stdout",
     "output_type": "stream",
     "text": [
      "11 Com: vsini = 1.2 +/- (0.7071067811865476,nan)\n"
     ]
    }
   ],
   "source": [
    "print(final('11 Com', crit_4, True, 2000))"
   ]
  },
  {
   "cell_type": "code",
   "execution_count": 397,
   "metadata": {},
   "outputs": [],
   "source": [
    "def crit_5(star_name, cutoff_year, cut_off):\n",
    "    '''\n",
    "    Value with the smallest percent uncertainty \n",
    "    (disregards values with no associated error)\n",
    "    sweet_star: name of SWEET-Cat star\n",
    "    dataframe: pandas dataframe for sweet_star with the columns: ['vsini', 'err_1', 'err_2', 'Ref', 'Catalog']\n",
    "    cutoff_year: function that reduces the dataframe to only values after the year cut_off\n",
    "    output: value +/- error\n",
    "    '''        \n",
    "    gaia2_id = sweet_table[sweet_table['Name'] == star_name]['gaia_dr2']\n",
    "    \n",
    "    star_id2_simbad = \"gaia_dr2 \" + str(gaia2_id[0])\n",
    "    \n",
    "    if \"/\" in star_name or \"*\" in star_name:\n",
    "        file_name = star_id2_simbad\n",
    "    else:\n",
    "        file_name = star_name\n",
    "        \n",
    "    if cutoff_year == True:\n",
    "        dataframe = cut_off_year(star_name, cut_off)\n",
    "        dataframe = dataframe.reset_index()\n",
    "        dataframe = dataframe.drop(labels='index', axis=1)\n",
    "    if cutoff_year == False:\n",
    "        dataframe = pd.read_csv('{}.txt'.format(file_name), sep='\\t')\n",
    "        \n",
    "    #Value with the smallest percent uncertainty and then weighted average if they are more than 1\n",
    "    per = 100\n",
    "    values = []\n",
    "    errors = []\n",
    "    for i, err in enumerate(dataframe['err_1']):\n",
    "        if not pd.isna(err):\n",
    "            percent = err/dataframe['vsini'][i] *100\n",
    "            if percent <= per: \n",
    "                values.append(dataframe['vsini'][i])\n",
    "                errors.append(err) \n",
    "                per = percent\n",
    "    \n",
    "    if len(values) == 1:\n",
    "        res = ufloat(np.average(dataframe['vsini']), float('nan'))\n",
    "        return res.n, res.s, float('nan')\n",
    "    if len(values) > 1:\n",
    "        return crit_3     \n",
    "    if len(values) == 0:\n",
    "        return float('nan'), float('nan'), float('nan')"
   ]
  },
  {
   "cell_type": "code",
   "execution_count": 398,
   "metadata": {},
   "outputs": [
    {
     "name": "stdout",
     "output_type": "stream",
     "text": [
      "11 Com: vsini = 5.292 +/- (nan,nan)\n"
     ]
    }
   ],
   "source": [
    "print(final('11 Com', crit_5, True, 2000))"
   ]
  },
  {
   "cell_type": "code",
   "execution_count": 399,
   "metadata": {},
   "outputs": [],
   "source": [
    "def crit_6(star_name, cutoff_year, cut_off):\n",
    "    '''\n",
    "    Calculate the standard deviation and disregard values beyond average +/- 1SD\n",
    "    Take the average of the values (disregards errors)\n",
    "    sweet_star: name of SWEET-Cat star\n",
    "    dataframe: pandas dataframe for sweet_star with the columns: ['vsini', 'err_1', 'err_2', 'Ref', 'Catalog']\n",
    "    cutoff_year: function that reduces the dataframe to only values after the year cut_off\n",
    "    output: Average +/- nan\n",
    "    '''        \n",
    "    gaia2_id = sweet_table[sweet_table['Name'] == star_name]['gaia_dr2']\n",
    "    \n",
    "    star_id2_simbad = \"gaia_dr2 \" + str(gaia2_id[0])\n",
    "    \n",
    "    if \"/\" in star_name or \"*\" in star_name:\n",
    "        file_name = star_id2_simbad\n",
    "    else:\n",
    "        file_name = star_name\n",
    "        \n",
    "    if cutoff_year == True:\n",
    "        dataframe = cut_off_year(star_name, cut_off)\n",
    "        dataframe = dataframe.reset_index()\n",
    "        dataframe = dataframe.drop(labels='index', axis=1)\n",
    "    if cutoff_year == False:\n",
    "        dataframe = pd.read_csv('{}.txt'.format(file_name), sep='\\t')\n",
    "    \n",
    "    if len(dataframe)>=2:\n",
    "        av = np.average(dataframe['vsini'])\n",
    "        var = statistics.variance(dataframe['vsini'])\n",
    "        sd = np.sqrt(var)\n",
    "\n",
    "        label = []\n",
    "        for i,x in enumerate(dataframe['vsini']):\n",
    "            if x > av + sd or x < av - sd:\n",
    "                label.append(i)\n",
    "        dataframe = dataframe.drop(labels=label)\n",
    "\n",
    "        return np.average(dataframe['vsini']), float('nan'), float('nan')\n",
    "    if len(dataframe) < 2:\n",
    "        return float('nan'), float('nan'), float('nan')"
   ]
  },
  {
   "cell_type": "code",
   "execution_count": 400,
   "metadata": {},
   "outputs": [
    {
     "name": "stdout",
     "output_type": "stream",
     "text": [
      "11 Com: vsini = 1.6150000000000002 +/- (nan,nan)\n",
      "1SWASP J1407: vsini = nan +/- (nan,nan)\n"
     ]
    }
   ],
   "source": [
    "print(final('11 Com', crit_6, True, 2000))\n",
    "print(final('1SWASP J1407', crit_6, True, 2000))"
   ]
  },
  {
   "cell_type": "code",
   "execution_count": 401,
   "metadata": {},
   "outputs": [],
   "source": [
    "def crit_7(star_name, cutoff_year, cut_off):\n",
    "    '''\n",
    "    Returns the first value stored from nasa exoplanet archive\n",
    "    sweet_star: name of SWEET-Cat star\n",
    "    dataframe: pandas dataframe for sweet_star with the columns: ['vsini', 'err_1', 'err_2', 'Ref', 'Catalog']\n",
    "    cutoff_year: function that reduces the dataframe to only values after the year cut_off\n",
    "    output: value +/- error\n",
    "    '''        \n",
    "    gaia2_id = sweet_table[sweet_table['Name'] == star_name]['gaia_dr2']\n",
    "    \n",
    "    star_id2_simbad = \"gaia_dr2 \" + str(gaia2_id[0])\n",
    "    \n",
    "    if \"/\" in star_name or \"*\" in star_name:\n",
    "        file_name = star_id2_simbad\n",
    "    else:\n",
    "        file_name = star_name\n",
    "        \n",
    "    if cutoff_year == True:\n",
    "        dataframe = cut_off_year(star_name, cut_off)\n",
    "        dataframe = dataframe.reset_index()\n",
    "        dataframe = dataframe.drop(labels='index', axis=1)\n",
    "    if cutoff_year == False:\n",
    "        dataframe = pd.read_csv('{}.txt'.format(file_name), sep='\\t')\n",
    "    \n",
    "    if len(dataframe) > 0:\n",
    "        for i, cat in enumerate(dataframe['Catalog']):\n",
    "            if cat == 'nasa_exoplanet_archive':\n",
    "                value = dataframe['vsini'][i]\n",
    "                err_1 = dataframe['err_1'][i]\n",
    "                err_2 = dataframe['err_2'][i]\n",
    "                return '{} +/- ({} / {})'.format(value, err_1, err_2)\n",
    "\n",
    "    if len(dataframe) == 0:\n",
    "        return float('nan'), float('nan'), float('nan')"
   ]
  },
  {
   "cell_type": "code",
   "execution_count": 402,
   "metadata": {},
   "outputs": [
    {
     "name": "stdout",
     "output_type": "stream",
     "text": [
      "1.2 +/- (1.0 / -1.0)\n"
     ]
    }
   ],
   "source": [
    "print(crit_7('11 Com', True, 2000))"
   ]
  },
  {
   "cell_type": "code",
   "execution_count": 403,
   "metadata": {},
   "outputs": [],
   "source": [
    "def crit_8(star_name, cutoff_year, cut_off):\n",
    "    '''\n",
    "    Taking the median value\n",
    "    sweet_star: name of SWEET-Cat star\n",
    "    dataframe: pandas dataframe for sweet_star with the columns: ['vsini', 'err_1', 'err_2', 'Ref', 'Catalog']\n",
    "    cutoff_year: function that reduces the dataframe to only values after the year cut_off\n",
    "    output: median +/- nan\n",
    "    '''        \n",
    "    gaia2_id = sweet_table[sweet_table['Name'] == star_name]['gaia_dr2']\n",
    "    \n",
    "    star_id2_simbad = \"gaia_dr2 \" + str(gaia2_id[0])\n",
    "    \n",
    "    if \"/\" in star_name or \"*\" in star_name:\n",
    "        file_name = star_id2_simbad\n",
    "    else:\n",
    "        file_name = star_name\n",
    "    \n",
    "    if cutoff_year == True:\n",
    "        dataframe = cut_off_year(star_name, cut_off)\n",
    "        dataframe = dataframe.reset_index()\n",
    "        dataframe = dataframe.drop(labels='index', axis=1)\n",
    "    if cutoff_year == False:\n",
    "        dataframe = pd.read_csv('{}.txt'.format(file_name), sep='\\t')\n",
    "    \n",
    "    if len(dataframe) > 0:\n",
    "        return statistics.median(dataframe['vsini']), float('nan'), float('nan')\n",
    "    \n",
    "    if len(dataframe) == 0:\n",
    "        return float('nan'), float('nan'), float('nan')"
   ]
  },
  {
   "cell_type": "code",
   "execution_count": 404,
   "metadata": {},
   "outputs": [
    {
     "name": "stdout",
     "output_type": "stream",
     "text": [
      "11 Com: vsini = 1.2 +/- (nan,nan)\n"
     ]
    }
   ],
   "source": [
    "print(final('11 Com', crit_8, True, 2000))"
   ]
  },
  {
   "cell_type": "code",
   "execution_count": 405,
   "metadata": {},
   "outputs": [],
   "source": [
    "def nasa_vsini(star, file):\n",
    "    table = pd.read_csv(file, sep = '\\t')\n",
    "    gaia2_id = sweet_table[sweet_table['Name'] == star]['gaia_dr2']\n",
    "    star_id2 = \"Gaia DR2 \" + str(gaia2_id[0])\n",
    "    value = table[table['gaia_id']==star_id2]['st_vsin']\n",
    "    if len(value) > 0:\n",
    "        value = value.values[0]\n",
    "        err1 = table[table['gaia_id']==star_id2]['st_vsinerr1']\n",
    "        err1 = err1.values[0]\n",
    "        err2 = table[table['gaia_id']==star_id2]['st_vsinerr2']\n",
    "        err2 = err2.values[0]\n",
    "        ref = table[table['gaia_id']==star_id2]['st_refname']\n",
    "        ref = ref.values[0]\n",
    "        \n",
    "        return value, err1, err2, ref\n",
    "    else:\n",
    "        return float('nan'), float('nan'), float('nan'), float('nan')"
   ]
  },
  {
   "cell_type": "code",
   "execution_count": 406,
   "metadata": {
    "scrolled": true
   },
   "outputs": [
    {
     "name": "stdout",
     "output_type": "stream",
     "text": [
      "11 Com: vsini = 5.292 +/- (nan,nan)\n",
      "11 Com: vsini = 1.7866666666666668 +/- (0.6075908711186061,-0.6075908711186061)\n",
      "11 Com: vsini = 1.8425396825396827 +/- (0.7180125976316453,-0.7180125976316453)\n",
      "11 Com: vsini = 1.2 +/- (0.7071067811865476,nan)\n",
      "11 Com: vsini = 5.292 +/- (nan,nan)\n",
      "11 Com: vsini = 1.6150000000000002 +/- (nan,nan)\n",
      "11 Com: vsini = 1.2 +/- (nan,nan)\n",
      "11 Com: vsini =  1.2 +/- (1.0 / -1.0)\n",
      "11 Com: vsini = 1.2 +/- (1.0, -1.0)\n",
      "<a refstr=LIU_ET_AL__2008 href=https://ui.adsabs.harvard.edu/abs/2008ApJ...672..553L/abstract target=ref> Liu et al. 2008 </a>\n"
     ]
    }
   ],
   "source": [
    "print(final('11 Com', crit_1, True, 2000)) #normal average (disregards errors)\n",
    "print(final('11 Com', crit_2, True, 2000)) #normal average (just erros)\n",
    "print(final('11 Com', crit_3, True, 2000)) #weighted average\n",
    "print(final('11 Com', crit_4, True, 2000)) #smallest error\n",
    "print(final('11 Com', crit_5, True, 2000)) #smallest percent uncertainty\n",
    "print(final('11 Com', crit_6, True, 2000)) #standard deviation\n",
    "print(final('11 Com', crit_8, True, 2000)) #median\n",
    "print('11 Com: vsini = ', crit_7('11 Com', True, 2000)) #nasa\n",
    "v, e1, e2, ref = nasa_vsini('11 Com', '_nasa_table.txt') #nasa\n",
    "print('{}: vsini = {} +/- ({}, {})'.format('11 Com', v, e1, e2)) #nasa\n",
    "print(ref)"
   ]
  },
  {
   "cell_type": "markdown",
   "metadata": {},
   "source": [
    "## Creating the final table\n",
    "For the final table we'll only use criteria 1, 6 and 8 and the table from nasa exoplanet archive (default = 1)"
   ]
  },
  {
   "cell_type": "code",
   "execution_count": 440,
   "metadata": {
    "scrolled": true
   },
   "outputs": [
    {
     "name": "stderr",
     "output_type": "stream",
     "text": [
      "  6%|████▊                                                                          | 229/3803 [00:29<07:25,  8.02it/s]C:\\Users\\Lenovo\\anaconda3\\lib\\site-packages\\numpy\\lib\\function_base.py:518: RuntimeWarning: Mean of empty slice.\n",
      "  avg = a.mean(axis, **keepdims_kw)\n",
      "C:\\Users\\Lenovo\\anaconda3\\lib\\site-packages\\numpy\\core\\_methods.py:190: RuntimeWarning: invalid value encountered in double_scalars\n",
      "  ret = ret.dtype.type(ret / rcount)\n",
      " 63%|████████████████████████████████████████████████▊                             | 2380/3803 [04:58<03:07,  7.60it/s]C:\\Users\\Lenovo\\anaconda3\\lib\\site-packages\\numpy\\lib\\function_base.py:518: RuntimeWarning: Mean of empty slice.\n",
      "  avg = a.mean(axis, **keepdims_kw)\n",
      "C:\\Users\\Lenovo\\anaconda3\\lib\\site-packages\\numpy\\core\\_methods.py:190: RuntimeWarning: invalid value encountered in double_scalars\n",
      "  ret = ret.dtype.type(ret / rcount)\n",
      "100%|██████████████████████████████████████████████████████████████████████████████| 3803/3803 [08:08<00:00,  7.79it/s]\n"
     ]
    }
   ],
   "source": [
    "cutoff_year = True\n",
    "cut_off = 2000\n",
    "\n",
    "criterion_1_values = []\n",
    "criterion_1_err1 = []\n",
    "criterion_1_err2 = []\n",
    "criterion_6_values = []\n",
    "criterion_6_err1 = []\n",
    "criterion_6_err2 = []\n",
    "criterion_8_values = []\n",
    "criterion_8_err1 = []\n",
    "criterion_8_err2 = []\n",
    "nasa_values = []\n",
    "nasa_err1 = []\n",
    "nasa_err2 = []\n",
    "nasa_refs = []\n",
    "\n",
    "for star in tqdm(sweet_stars):\n",
    "# for star in sweet_stars:\n",
    "#     print(star)\n",
    "    v_1, err1_1, err2_1 = crit_1(star, cutoff_year, cut_off)\n",
    "    criterion_1_values.append(v_1)\n",
    "    criterion_1_err1.append(err1_1)\n",
    "    criterion_1_err2.append(err2_1)\n",
    "    \n",
    "    v_6, err1_6, err2_6 = crit_6(star, cutoff_year, cut_off)\n",
    "    criterion_6_values.append(v_6)\n",
    "    criterion_6_err1.append(err1_6)\n",
    "    criterion_6_err2.append(err2_6)\n",
    "    \n",
    "    v_8, err1_8, err2_8 = crit_8(star, cutoff_year, cut_off)\n",
    "    criterion_8_values.append(v_8)\n",
    "    criterion_8_err1.append(err1_8)\n",
    "    criterion_8_err2.append(err2_8)\n",
    "    \n",
    "    v_nasa, err1_nasa, err2_nasa, ref = nasa_vsini(star, '_nasa_table.txt')\n",
    "    nasa_values.append(v_nasa)\n",
    "    nasa_err1.append(err1_nasa)\n",
    "    nasa_err2.append(err2_nasa)\n",
    "    nasa_refs.append(ref)\n",
    "    \n",
    "di = {'Star' : sweet_stars, 'average: vsini (km/s)': criterion_1_values, 'average: err_1': criterion_1_err1, 'average: err_2': criterion_1_err2,\n",
    "      'standard deviation: vsini (km/s)': criterion_6_values, 'standard deviation: err_1': criterion_6_err1, 'standard deviation: err_2': criterion_6_err2,\n",
    "     'median: vsini (km/s)': criterion_8_values, 'median: err_1': criterion_8_err1, 'median: err_2': criterion_8_err2,\n",
    "     'nasa: vsini (km/s)': nasa_values, 'nasa: err_1': nasa_err1, 'nasa: err_2': nasa_err2, 'nasa: reference': nasa_refs}\n",
    "\n",
    "df = pd.DataFrame(di)"
   ]
  },
  {
   "cell_type": "code",
   "execution_count": 445,
   "metadata": {},
   "outputs": [
    {
     "data": {
      "text/plain": [
       "'HATS-4'"
      ]
     },
     "execution_count": 445,
     "metadata": {},
     "output_type": "execute_result"
    }
   ],
   "source": [
    "sweet_stars[228]"
   ]
  },
  {
   "cell_type": "code",
   "execution_count": 446,
   "metadata": {},
   "outputs": [
    {
     "data": {
      "text/plain": [
       "'WASP-10'"
      ]
     },
     "execution_count": 446,
     "metadata": {},
     "output_type": "execute_result"
    }
   ],
   "source": [
    "sweet_stars[2379]"
   ]
  },
  {
   "cell_type": "code",
   "execution_count": 447,
   "metadata": {},
   "outputs": [
    {
     "data": {
      "text/html": [
       "<div>\n",
       "<style scoped>\n",
       "    .dataframe tbody tr th:only-of-type {\n",
       "        vertical-align: middle;\n",
       "    }\n",
       "\n",
       "    .dataframe tbody tr th {\n",
       "        vertical-align: top;\n",
       "    }\n",
       "\n",
       "    .dataframe thead th {\n",
       "        text-align: right;\n",
       "    }\n",
       "</style>\n",
       "<table border=\"1\" class=\"dataframe\">\n",
       "  <thead>\n",
       "    <tr style=\"text-align: right;\">\n",
       "      <th></th>\n",
       "      <th>Star</th>\n",
       "      <th>average: vsini (km/s)</th>\n",
       "      <th>average: err_1</th>\n",
       "      <th>average: err_2</th>\n",
       "      <th>standard deviation: vsini (km/s)</th>\n",
       "      <th>standard deviation: err_1</th>\n",
       "      <th>standard deviation: err_2</th>\n",
       "      <th>median: vsini (km/s)</th>\n",
       "      <th>median: err_1</th>\n",
       "      <th>median: err_2</th>\n",
       "      <th>nasa: vsini (km/s)</th>\n",
       "      <th>nasa: err_1</th>\n",
       "      <th>nasa: err_2</th>\n",
       "      <th>nasa: reference</th>\n",
       "    </tr>\n",
       "  </thead>\n",
       "  <tbody>\n",
       "    <tr>\n",
       "      <th>0</th>\n",
       "      <td>11 Com</td>\n",
       "      <td>5.292000</td>\n",
       "      <td>NaN</td>\n",
       "      <td>NaN</td>\n",
       "      <td>1.615000</td>\n",
       "      <td>NaN</td>\n",
       "      <td>NaN</td>\n",
       "      <td>1.200</td>\n",
       "      <td>NaN</td>\n",
       "      <td>NaN</td>\n",
       "      <td>1.2</td>\n",
       "      <td>1.0</td>\n",
       "      <td>-1.0</td>\n",
       "      <td>&lt;a refstr=LIU_ET_AL__2008 href=https://ui.adsa...</td>\n",
       "    </tr>\n",
       "    <tr>\n",
       "      <th>1</th>\n",
       "      <td>11 UMi</td>\n",
       "      <td>4.825000</td>\n",
       "      <td>NaN</td>\n",
       "      <td>NaN</td>\n",
       "      <td>1.433333</td>\n",
       "      <td>NaN</td>\n",
       "      <td>NaN</td>\n",
       "      <td>1.500</td>\n",
       "      <td>NaN</td>\n",
       "      <td>NaN</td>\n",
       "      <td>NaN</td>\n",
       "      <td>NaN</td>\n",
       "      <td>NaN</td>\n",
       "      <td>&lt;a refstr=STASSUN_ET_AL__2017 href=https://ui....</td>\n",
       "    </tr>\n",
       "    <tr>\n",
       "      <th>2</th>\n",
       "      <td>14 And</td>\n",
       "      <td>4.488333</td>\n",
       "      <td>NaN</td>\n",
       "      <td>NaN</td>\n",
       "      <td>1.386000</td>\n",
       "      <td>NaN</td>\n",
       "      <td>NaN</td>\n",
       "      <td>1.515</td>\n",
       "      <td>NaN</td>\n",
       "      <td>NaN</td>\n",
       "      <td>2.6</td>\n",
       "      <td>NaN</td>\n",
       "      <td>NaN</td>\n",
       "      <td>&lt;a refstr=SATO_ET_AL__2008 href=https://ui.ads...</td>\n",
       "    </tr>\n",
       "    <tr>\n",
       "      <th>3</th>\n",
       "      <td>14 Her</td>\n",
       "      <td>1.966667</td>\n",
       "      <td>NaN</td>\n",
       "      <td>NaN</td>\n",
       "      <td>1.940000</td>\n",
       "      <td>NaN</td>\n",
       "      <td>NaN</td>\n",
       "      <td>2.000</td>\n",
       "      <td>NaN</td>\n",
       "      <td>NaN</td>\n",
       "      <td>NaN</td>\n",
       "      <td>NaN</td>\n",
       "      <td>NaN</td>\n",
       "      <td>&lt;a refstr=FENG_ET_AL__2022 href=https://ui.ads...</td>\n",
       "    </tr>\n",
       "    <tr>\n",
       "      <th>4</th>\n",
       "      <td>16 Cyg B</td>\n",
       "      <td>9.765556</td>\n",
       "      <td>NaN</td>\n",
       "      <td>NaN</td>\n",
       "      <td>3.281176</td>\n",
       "      <td>NaN</td>\n",
       "      <td>NaN</td>\n",
       "      <td>2.200</td>\n",
       "      <td>NaN</td>\n",
       "      <td>NaN</td>\n",
       "      <td>NaN</td>\n",
       "      <td>NaN</td>\n",
       "      <td>NaN</td>\n",
       "      <td>&lt;a refstr=STASSUN_ET_AL__2017 href=https://ui....</td>\n",
       "    </tr>\n",
       "    <tr>\n",
       "      <th>...</th>\n",
       "      <td>...</td>\n",
       "      <td>...</td>\n",
       "      <td>...</td>\n",
       "      <td>...</td>\n",
       "      <td>...</td>\n",
       "      <td>...</td>\n",
       "      <td>...</td>\n",
       "      <td>...</td>\n",
       "      <td>...</td>\n",
       "      <td>...</td>\n",
       "      <td>...</td>\n",
       "      <td>...</td>\n",
       "      <td>...</td>\n",
       "      <td>...</td>\n",
       "    </tr>\n",
       "    <tr>\n",
       "      <th>3798</th>\n",
       "      <td>K2-405</td>\n",
       "      <td>NaN</td>\n",
       "      <td>NaN</td>\n",
       "      <td>NaN</td>\n",
       "      <td>NaN</td>\n",
       "      <td>NaN</td>\n",
       "      <td>NaN</td>\n",
       "      <td>NaN</td>\n",
       "      <td>NaN</td>\n",
       "      <td>NaN</td>\n",
       "      <td>NaN</td>\n",
       "      <td>NaN</td>\n",
       "      <td>NaN</td>\n",
       "      <td>&lt;a refstr=CHRISTIANSEN_ET_AL__2022 href=https:...</td>\n",
       "    </tr>\n",
       "    <tr>\n",
       "      <th>3799</th>\n",
       "      <td>K2-406</td>\n",
       "      <td>NaN</td>\n",
       "      <td>NaN</td>\n",
       "      <td>NaN</td>\n",
       "      <td>NaN</td>\n",
       "      <td>NaN</td>\n",
       "      <td>NaN</td>\n",
       "      <td>NaN</td>\n",
       "      <td>NaN</td>\n",
       "      <td>NaN</td>\n",
       "      <td>NaN</td>\n",
       "      <td>NaN</td>\n",
       "      <td>NaN</td>\n",
       "      <td>&lt;a refstr=CHRISTIANSEN_ET_AL__2022 href=https:...</td>\n",
       "    </tr>\n",
       "    <tr>\n",
       "      <th>3800</th>\n",
       "      <td>K2-407</td>\n",
       "      <td>NaN</td>\n",
       "      <td>NaN</td>\n",
       "      <td>NaN</td>\n",
       "      <td>NaN</td>\n",
       "      <td>NaN</td>\n",
       "      <td>NaN</td>\n",
       "      <td>NaN</td>\n",
       "      <td>NaN</td>\n",
       "      <td>NaN</td>\n",
       "      <td>NaN</td>\n",
       "      <td>NaN</td>\n",
       "      <td>NaN</td>\n",
       "      <td>&lt;a refstr=CHRISTIANSEN_ET_AL__2022 href=https:...</td>\n",
       "    </tr>\n",
       "    <tr>\n",
       "      <th>3801</th>\n",
       "      <td>K2-408</td>\n",
       "      <td>NaN</td>\n",
       "      <td>NaN</td>\n",
       "      <td>NaN</td>\n",
       "      <td>NaN</td>\n",
       "      <td>NaN</td>\n",
       "      <td>NaN</td>\n",
       "      <td>NaN</td>\n",
       "      <td>NaN</td>\n",
       "      <td>NaN</td>\n",
       "      <td>NaN</td>\n",
       "      <td>NaN</td>\n",
       "      <td>NaN</td>\n",
       "      <td>&lt;a refstr=CHRISTIANSEN_ET_AL__2022 href=https:...</td>\n",
       "    </tr>\n",
       "    <tr>\n",
       "      <th>3802</th>\n",
       "      <td>K2-409</td>\n",
       "      <td>NaN</td>\n",
       "      <td>NaN</td>\n",
       "      <td>NaN</td>\n",
       "      <td>NaN</td>\n",
       "      <td>NaN</td>\n",
       "      <td>NaN</td>\n",
       "      <td>NaN</td>\n",
       "      <td>NaN</td>\n",
       "      <td>NaN</td>\n",
       "      <td>NaN</td>\n",
       "      <td>NaN</td>\n",
       "      <td>NaN</td>\n",
       "      <td>&lt;a refstr=CHRISTIANSEN_ET_AL__2022 href=https:...</td>\n",
       "    </tr>\n",
       "  </tbody>\n",
       "</table>\n",
       "<p>3803 rows × 14 columns</p>\n",
       "</div>"
      ],
      "text/plain": [
       "          Star  average: vsini (km/s)  average: err_1  average: err_2  \\\n",
       "0       11 Com               5.292000             NaN             NaN   \n",
       "1       11 UMi               4.825000             NaN             NaN   \n",
       "2       14 And               4.488333             NaN             NaN   \n",
       "3       14 Her               1.966667             NaN             NaN   \n",
       "4     16 Cyg B               9.765556             NaN             NaN   \n",
       "...        ...                    ...             ...             ...   \n",
       "3798    K2-405                    NaN             NaN             NaN   \n",
       "3799    K2-406                    NaN             NaN             NaN   \n",
       "3800    K2-407                    NaN             NaN             NaN   \n",
       "3801    K2-408                    NaN             NaN             NaN   \n",
       "3802    K2-409                    NaN             NaN             NaN   \n",
       "\n",
       "      standard deviation: vsini (km/s)  standard deviation: err_1  \\\n",
       "0                             1.615000                        NaN   \n",
       "1                             1.433333                        NaN   \n",
       "2                             1.386000                        NaN   \n",
       "3                             1.940000                        NaN   \n",
       "4                             3.281176                        NaN   \n",
       "...                                ...                        ...   \n",
       "3798                               NaN                        NaN   \n",
       "3799                               NaN                        NaN   \n",
       "3800                               NaN                        NaN   \n",
       "3801                               NaN                        NaN   \n",
       "3802                               NaN                        NaN   \n",
       "\n",
       "      standard deviation: err_2  median: vsini (km/s)  median: err_1  \\\n",
       "0                           NaN                 1.200            NaN   \n",
       "1                           NaN                 1.500            NaN   \n",
       "2                           NaN                 1.515            NaN   \n",
       "3                           NaN                 2.000            NaN   \n",
       "4                           NaN                 2.200            NaN   \n",
       "...                         ...                   ...            ...   \n",
       "3798                        NaN                   NaN            NaN   \n",
       "3799                        NaN                   NaN            NaN   \n",
       "3800                        NaN                   NaN            NaN   \n",
       "3801                        NaN                   NaN            NaN   \n",
       "3802                        NaN                   NaN            NaN   \n",
       "\n",
       "      median: err_2  nasa: vsini (km/s)  nasa: err_1  nasa: err_2  \\\n",
       "0               NaN                 1.2          1.0         -1.0   \n",
       "1               NaN                 NaN          NaN          NaN   \n",
       "2               NaN                 2.6          NaN          NaN   \n",
       "3               NaN                 NaN          NaN          NaN   \n",
       "4               NaN                 NaN          NaN          NaN   \n",
       "...             ...                 ...          ...          ...   \n",
       "3798            NaN                 NaN          NaN          NaN   \n",
       "3799            NaN                 NaN          NaN          NaN   \n",
       "3800            NaN                 NaN          NaN          NaN   \n",
       "3801            NaN                 NaN          NaN          NaN   \n",
       "3802            NaN                 NaN          NaN          NaN   \n",
       "\n",
       "                                        nasa: reference  \n",
       "0     <a refstr=LIU_ET_AL__2008 href=https://ui.adsa...  \n",
       "1     <a refstr=STASSUN_ET_AL__2017 href=https://ui....  \n",
       "2     <a refstr=SATO_ET_AL__2008 href=https://ui.ads...  \n",
       "3     <a refstr=FENG_ET_AL__2022 href=https://ui.ads...  \n",
       "4     <a refstr=STASSUN_ET_AL__2017 href=https://ui....  \n",
       "...                                                 ...  \n",
       "3798  <a refstr=CHRISTIANSEN_ET_AL__2022 href=https:...  \n",
       "3799  <a refstr=CHRISTIANSEN_ET_AL__2022 href=https:...  \n",
       "3800  <a refstr=CHRISTIANSEN_ET_AL__2022 href=https:...  \n",
       "3801  <a refstr=CHRISTIANSEN_ET_AL__2022 href=https:...  \n",
       "3802  <a refstr=CHRISTIANSEN_ET_AL__2022 href=https:...  \n",
       "\n",
       "[3803 rows x 14 columns]"
      ]
     },
     "execution_count": 447,
     "metadata": {},
     "output_type": "execute_result"
    }
   ],
   "source": [
    "df"
   ]
  },
  {
   "cell_type": "code",
   "execution_count": 448,
   "metadata": {},
   "outputs": [],
   "source": [
    "df.to_csv('_final_.txt', index = False, sep = '\\t')"
   ]
  }
 ],
 "metadata": {
  "kernelspec": {
   "display_name": "Python 3",
   "language": "python",
   "name": "python3"
  },
  "language_info": {
   "codemirror_mode": {
    "name": "ipython",
    "version": 3
   },
   "file_extension": ".py",
   "mimetype": "text/x-python",
   "name": "python",
   "nbconvert_exporter": "python",
   "pygments_lexer": "ipython3",
   "version": "3.8.3"
  }
 },
 "nbformat": 4,
 "nbformat_minor": 4
}
