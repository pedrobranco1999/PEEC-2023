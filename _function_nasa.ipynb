{
 "cells": [
  {
   "cell_type": "markdown",
   "metadata": {},
   "source": [
    "## The function 'nasa_exo' takes as input the SWEET-Cat table and adds lines to a text file for each of the stars in SWEET-Cat with 4 columns corresponding, in this order, to the value of vsini, the upper bound, the lower bound, the bibcode and the catalog name ('nasa_exoplanet_archive')."
   ]
  },
  {
   "cell_type": "code",
   "execution_count": 1,
   "metadata": {},
   "outputs": [],
   "source": [
    "# imports\n",
    "\n",
    "# SWEET-Cat\n",
    "import urllib\n",
    "import pandas as pd\n",
    "import numpy as np\n",
    "from astropy import coordinates as coord\n",
    "from astropy import units as u\n",
    "\n",
    "from astropy.table import Table\n",
    "from astropy.io.ascii import convert_numpy\n",
    "\n",
    "# astroquery\n",
    "from astroquery.ipac.nexsci.nasa_exoplanet_archive import NasaExoplanetArchive as nas\n",
    "from astroquery.utils.tap.core import TapPlus #tap service"
   ]
  },
  {
   "cell_type": "code",
   "execution_count": 2,
   "metadata": {},
   "outputs": [],
   "source": [
    "#Download SWEET-Cat\n",
    "sweetCat_table_url = \"https://sweetcat.iastro.pt/catalog/SWEETCAT_Dataframe.csv\"\n",
    "converters={'gaia_dr2': [convert_numpy(np.int64)],'gaia_dr3': [convert_numpy(np.int64)] }\n",
    "sweet_table = Table.read(sweetCat_table_url, encoding='UTF-8',format='csv', converters=converters)\n",
    "\n",
    "sweet_stars = sweet_table['Name']\n",
    "\n",
    "# Nasa\n",
    "nasa_exo = TapPlus(url=\"https://exoplanetarchive.ipac.caltech.edu/TAP/\")"
   ]
  },
  {
   "cell_type": "code",
   "execution_count": null,
   "metadata": {},
   "outputs": [],
   "source": [
    "def nasa_exo(sweet_table):\n",
    "    \n",
    "    sweet_stars = sweet_table['Name']\n",
    "    \n",
    "    gaia = sweet_table['gaia_dr2']\n",
    "    \n",
    "    identifiers = []\n",
    "    for i in gaia:\n",
    "        identifiers.append(\"Gaia DR2 \" + str(i))\n",
    "    \n",
    "    arch = nas.query_criteria(table=\"ps\")\n",
    "    \n",
    "    result_nas = arch[np.in1d(arch['gaia_id'], identifiers)]\n",
    "    \n",
    "    result_nasa = result_nasa[\"hostname\",\"st_vsin\",\"st_vsinerr1\",\"st_vsinerr2\",\"pl_refname\"]\n",
    "    \n",
    "    #total dataframe\n",
    "    df_nasa = result_nasa.to_pandas()\n",
    "    df = df.drop(['hostname'], axis=1)\n",
    "    cat = ['nasa_exoplanet_archive']*len(result_nasa)\n",
    "    df['Catalogue'] = cat\n",
    "    df = df.drop_duplicates()\n",
    "    \n",
    "    #dataframe for each star\n",
    "    for star_name in sweet_stars:\n",
    "        gaia2_id = sweet_table[sweet_table['Name'] == star_name]['gaia_dr2']\n",
    "        star_id2 = \"Gaia DR2 \" + str(gaia2_id[0])\n",
    "        df_star = df[df['gaia_id'] == star_id2]\n",
    "    \n",
    "        # Make csv file with the values\n",
    "        if \"/\" in star_name or \"*\" in star_name:\n",
    "            file_name = star_id2\n",
    "        else:\n",
    "            file_name = star_name\n",
    "\n",
    "        df_star.to_csv('{}.txt'.format(file_name), mode='a', index=False, header=False, sep = '\\t')\n",
    "    \n",
    "    return 'nasa done'"
   ]
  }
 ],
 "metadata": {
  "kernelspec": {
   "display_name": "Python 3",
   "language": "python",
   "name": "python3"
  },
  "language_info": {
   "codemirror_mode": {
    "name": "ipython",
    "version": 3
   },
   "file_extension": ".py",
   "mimetype": "text/x-python",
   "name": "python",
   "nbconvert_exporter": "python",
   "pygments_lexer": "ipython3",
   "version": "3.8.3"
  }
 },
 "nbformat": 4,
 "nbformat_minor": 4
}
